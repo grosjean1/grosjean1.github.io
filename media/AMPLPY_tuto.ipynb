{
 "cells": [
  {
   "cell_type": "code",
   "execution_count": 1,
   "id": "9f5e8b7f-a6f1-4d85-b07c-b0a0c087f59f",
   "metadata": {},
   "outputs": [
    {
     "name": "stdout",
     "output_type": "stream",
     "text": [
      "Requirement already satisfied: numpy in /usr/local/Cellar/jupyterlab/4.2.1/libexec/lib/python3.12/site-packages (2.0.0)\n",
      "\n",
      "\u001b[1m[\u001b[0m\u001b[34;49mnotice\u001b[0m\u001b[1;39;49m]\u001b[0m\u001b[39;49m A new release of pip is available: \u001b[0m\u001b[31;49m24.0\u001b[0m\u001b[39;49m -> \u001b[0m\u001b[32;49m24.2\u001b[0m\n",
      "\u001b[1m[\u001b[0m\u001b[34;49mnotice\u001b[0m\u001b[1;39;49m]\u001b[0m\u001b[39;49m To update, run: \u001b[0m\u001b[32;49m/usr/local/Cellar/jupyterlab/4.2.1/libexec/bin/python -m pip install --upgrade pip\u001b[0m\n",
      "Requirement already satisfied: matplotlib in /usr/local/Cellar/jupyterlab/4.2.1/libexec/lib/python3.12/site-packages (3.9.1)\n",
      "Requirement already satisfied: contourpy>=1.0.1 in /usr/local/Cellar/jupyterlab/4.2.1/libexec/lib/python3.12/site-packages (from matplotlib) (1.2.1)\n",
      "Requirement already satisfied: cycler>=0.10 in /usr/local/Cellar/jupyterlab/4.2.1/libexec/lib/python3.12/site-packages (from matplotlib) (0.12.1)\n",
      "Requirement already satisfied: fonttools>=4.22.0 in /usr/local/Cellar/jupyterlab/4.2.1/libexec/lib/python3.12/site-packages (from matplotlib) (4.53.1)\n",
      "Requirement already satisfied: kiwisolver>=1.3.1 in /usr/local/Cellar/jupyterlab/4.2.1/libexec/lib/python3.12/site-packages (from matplotlib) (1.4.5)\n",
      "Requirement already satisfied: numpy>=1.23 in /usr/local/Cellar/jupyterlab/4.2.1/libexec/lib/python3.12/site-packages (from matplotlib) (2.0.0)\n",
      "Requirement already satisfied: packaging>=20.0 in /usr/local/Cellar/jupyterlab/4.2.1/libexec/lib/python3.12/site-packages (from matplotlib) (24.0)\n",
      "Requirement already satisfied: pillow>=8 in /usr/local/Cellar/jupyterlab/4.2.1/libexec/lib/python3.12/site-packages (from matplotlib) (10.4.0)\n",
      "Requirement already satisfied: pyparsing>=2.3.1 in /usr/local/Cellar/jupyterlab/4.2.1/libexec/lib/python3.12/site-packages (from matplotlib) (3.1.2)\n",
      "Requirement already satisfied: python-dateutil>=2.7 in /usr/local/Cellar/jupyterlab/4.2.1/libexec/lib/python3.12/site-packages (from matplotlib) (2.9.0.post0)\n",
      "Requirement already satisfied: six>=1.5 in /usr/local/Cellar/jupyterlab/4.2.1/libexec/lib/python3.12/site-packages (from python-dateutil>=2.7->matplotlib) (1.16.0)\n",
      "\n",
      "\u001b[1m[\u001b[0m\u001b[34;49mnotice\u001b[0m\u001b[1;39;49m]\u001b[0m\u001b[39;49m A new release of pip is available: \u001b[0m\u001b[31;49m24.0\u001b[0m\u001b[39;49m -> \u001b[0m\u001b[32;49m24.2\u001b[0m\n",
      "\u001b[1m[\u001b[0m\u001b[34;49mnotice\u001b[0m\u001b[1;39;49m]\u001b[0m\u001b[39;49m To update, run: \u001b[0m\u001b[32;49m/usr/local/Cellar/jupyterlab/4.2.1/libexec/bin/python -m pip install --upgrade pip\u001b[0m\n",
      "Requirement already satisfied: amplpy in /usr/local/Cellar/jupyterlab/4.2.1/libexec/lib/python3.12/site-packages (0.14.0)\n",
      "Requirement already satisfied: ampltools>=0.7.5 in /usr/local/Cellar/jupyterlab/4.2.1/libexec/lib/python3.12/site-packages (from amplpy) (0.7.5)\n",
      "Requirement already satisfied: requests in /usr/local/Cellar/jupyterlab/4.2.1/libexec/lib/python3.12/site-packages (from ampltools>=0.7.5->amplpy) (2.32.2)\n",
      "Requirement already satisfied: charset-normalizer<4,>=2 in /usr/local/Cellar/jupyterlab/4.2.1/libexec/lib/python3.12/site-packages (from requests->ampltools>=0.7.5->amplpy) (3.3.2)\n",
      "Requirement already satisfied: idna<4,>=2.5 in /usr/local/Cellar/jupyterlab/4.2.1/libexec/lib/python3.12/site-packages (from requests->ampltools>=0.7.5->amplpy) (3.7)\n",
      "Requirement already satisfied: urllib3<3,>=1.21.1 in /usr/local/Cellar/jupyterlab/4.2.1/libexec/lib/python3.12/site-packages (from requests->ampltools>=0.7.5->amplpy) (2.2.1)\n",
      "Requirement already satisfied: certifi>=2017.4.17 in /usr/local/opt/certifi/lib/python3.12/site-packages (from requests->ampltools>=0.7.5->amplpy) (2024.6.2)\n",
      "\n",
      "\u001b[1m[\u001b[0m\u001b[34;49mnotice\u001b[0m\u001b[1;39;49m]\u001b[0m\u001b[39;49m A new release of pip is available: \u001b[0m\u001b[31;49m24.0\u001b[0m\u001b[39;49m -> \u001b[0m\u001b[32;49m24.2\u001b[0m\n",
      "\u001b[1m[\u001b[0m\u001b[34;49mnotice\u001b[0m\u001b[1;39;49m]\u001b[0m\u001b[39;49m To update, run: \u001b[0m\u001b[32;49m/usr/local/Cellar/jupyterlab/4.2.1/libexec/bin/python -m pip install --upgrade pip\u001b[0m\n"
     ]
    }
   ],
   "source": [
    "import sys\n",
    "!{sys.executable} -m pip install numpy\n",
    "!{sys.executable} -m pip install matplotlib\n",
    "!{sys.executable} -m pip install amplpy"
   ]
  },
  {
   "cell_type": "code",
   "execution_count": 2,
   "id": "8a0fc718-2d36-483e-9b3d-511cffec8c75",
   "metadata": {},
   "outputs": [],
   "source": [
    "from amplpy import AMPL # import AMPL"
   ]
  },
  {
   "cell_type": "code",
   "execution_count": 3,
   "id": "dd712dfd-5c17-4a86-be2e-ce73bff91326",
   "metadata": {},
   "outputs": [
    {
     "name": "stdout",
     "output_type": "stream",
     "text": [
      "AMPL Development Version 20240606 (Darwin-21.6.0, 64-bit)\n",
      "Demo license with maintenance expiring 20260131.\n",
      "Using license file \"/usr/local/Cellar/jupyterlab/4.2.1/libexec/lib/python3.12/site-packages/ampl_module_base/bin/ampl.lic\".\n",
      "\n"
     ]
    }
   ],
   "source": [
    "from amplpy import ampl_notebook\n",
    "\n",
    "ampl = ampl_notebook(\n",
    "    modules=[\"cplex\"],  # modules to install\n",
    "    license_uuid=\"default\",  # license to use\n",
    ")  # instantiate AMPL object and register magics"
   ]
  },
  {
   "cell_type": "code",
   "execution_count": 4,
   "id": "e4b37a01-4d89-4ad1-80e9-0e76cc7cfb6f",
   "metadata": {},
   "outputs": [],
   "source": [
    "%%ampl_eval\n",
    "# define decision variables\n",
    "\n",
    "reset;\n",
    "\n",
    "# Declaration of optimization variables\n",
    "var xx;\n",
    "var yy;\n",
    "# Declaration of parameters\n",
    "param aa=-4;\n",
    "param bb=2;"
   ]
  },
  {
   "cell_type": "code",
   "execution_count": 5,
   "id": "fbf4192c-bbc6-4b8a-b0ed-c9ce79fb2366",
   "metadata": {},
   "outputs": [],
   "source": [
    "%%ampl_eval\n",
    "# Cost function\n",
    "minimize f: \n",
    "    xx**2 + aa*(xx+yy) + 2*yy**2;\n",
    "# Constraints\n",
    "subject to g: xx+yy = bb;\n",
    "subject to h: xx >= 0;"
   ]
  },
  {
   "cell_type": "code",
   "execution_count": 6,
   "id": "6d83e05e-8a80-4d3f-9660-96389bc4a16b",
   "metadata": {},
   "outputs": [],
   "source": [
    "%%ampl_eval\n",
    "let xx:= 1;\n",
    "let yy:=2;"
   ]
  },
  {
   "cell_type": "code",
   "execution_count": 7,
   "id": "d54898da-e0f0-4647-81d1-8f6abefe5033",
   "metadata": {},
   "outputs": [
    {
     "name": "stdout",
     "output_type": "stream",
     "text": [
      "\n",
      "parameters:   aa   bb\n",
      "\n",
      "variables:   xx   yy\n",
      "\n",
      "constraints:   g   h\n",
      "\n",
      "objective:   f\n",
      "minimize f:\n",
      "\txx^2 + 2*yy^2 - 4*xx - 4*yy;\n",
      "\n",
      "subject to g:\n",
      "\txx + yy = 2;\n",
      "\n",
      "subject to h:\n",
      "\txx >= 0;\n",
      "\n",
      "CPLEX 22.1.1.0: optimal solution; objective -5.333333333\n",
      "6 separable QP barrier iterations\n",
      "No basis.\n"
     ]
    }
   ],
   "source": [
    "# exhibit the model that has been built\n",
    "ampl.eval(\"show;\")\n",
    "ampl.eval(\"expand;\")\n",
    "\n",
    "# solve using two different solvers\n",
    "ampl.option[\"solver\"] = \"cplex\"\n",
    "ampl.solve()\n",
    "\n",
    "#ampl.option[\"solver\"] = \"highs\"\n",
    "#ampl.solve()"
   ]
  },
  {
   "cell_type": "code",
   "execution_count": 8,
   "id": "a89f55e5-be2a-4ba6-9f05-24cba66ad1b9",
   "metadata": {},
   "outputs": [
    {
     "name": "stdout",
     "output_type": "stream",
     "text": [
      "xx = 1.33333\n",
      "\n",
      "f = -5.33333\n",
      "\n",
      "g.dual = -1.33333\n",
      "\n",
      "h.dual = 0\n",
      "\n"
     ]
    }
   ],
   "source": [
    "ampl.display(\"xx\");# xx,yy;\n",
    "ampl.display(\"f\");\n",
    "ampl.display(\"g.dual\");\n",
    "ampl.display(\"h.dual\");"
   ]
  },
  {
   "cell_type": "code",
   "execution_count": null,
   "id": "1d0afb9f-56f0-4a04-8e59-c68ac5ecd175",
   "metadata": {},
   "outputs": [],
   "source": []
  }
 ],
 "metadata": {
  "kernelspec": {
   "display_name": "Python 3 (ipykernel)",
   "language": "python",
   "name": "python3"
  },
  "language_info": {
   "codemirror_mode": {
    "name": "ipython",
    "version": 3
   },
   "file_extension": ".py",
   "mimetype": "text/x-python",
   "name": "python",
   "nbconvert_exporter": "python",
   "pygments_lexer": "ipython3",
   "version": "3.12.4"
  }
 },
 "nbformat": 4,
 "nbformat_minor": 5
}
